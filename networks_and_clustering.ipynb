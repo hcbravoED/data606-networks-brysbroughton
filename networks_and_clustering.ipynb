{
 "cells": [
  {
   "cell_type": "markdown",
   "metadata": {},
   "source": [
    "## DATA606: Project 2\n",
    "## Network communities and clustering\n",
    "\n",
    "In this project we will exercise algorithms for network community analysis and clustering. Specifically, we will implement the Girvan-Newman community detection algorithm, and the k-mediods algorithm.\n",
    "\n",
    "**Note**: We will need the igraph package for this. To install use `conda install -c conda_forge igraph-python`\n",
    "\n",
    "Let's grab a toy network to try things out (this is the same network we used to illustrate the Girvan-Newman algorithm in lecture."
   ]
  },
  {
   "cell_type": "code",
   "execution_count": 1,
   "metadata": {},
   "outputs": [],
   "source": [
    "%load_ext autoreload\n",
    "%autoreload 2"
   ]
  },
  {
   "cell_type": "code",
   "execution_count": 2,
   "metadata": {},
   "outputs": [
    {
     "data": {
      "image/svg+xml": [
       "<?xml version=\"1.0\" encoding=\"UTF-8\"?>\n",
       "<svg xmlns=\"http://www.w3.org/2000/svg\" xmlns:xlink=\"http://www.w3.org/1999/xlink\" width=\"200pt\" height=\"200pt\" viewBox=\"0 0 200 200\" version=\"1.1\">\n",
       "<defs>\n",
       "<g>\n",
       "<symbol overflow=\"visible\" id=\"glyph0-0\">\n",
       "<path style=\"stroke:none;\" d=\"M 0.703125 2.46875 L 0.703125 -9.875 L 7.703125 -9.875 L 7.703125 2.46875 Z M 1.484375 1.703125 L 6.921875 1.703125 L 6.921875 -9.078125 L 1.484375 -9.078125 Z M 1.484375 1.703125 \"/>\n",
       "</symbol>\n",
       "<symbol overflow=\"visible\" id=\"glyph0-1\">\n",
       "<path style=\"stroke:none;\" d=\"M 4.78125 -8.84375 L 2.90625 -3.765625 L 6.671875 -3.765625 Z M 4 -10.203125 L 5.578125 -10.203125 L 9.46875 0 L 8.03125 0 L 7.09375 -2.625 L 2.5 -2.625 L 1.5625 0 L 0.109375 0 Z M 4 -10.203125 \"/>\n",
       "</symbol>\n",
       "<symbol overflow=\"visible\" id=\"glyph0-2\">\n",
       "<path style=\"stroke:none;\" d=\"M 2.75 -4.875 L 2.75 -1.140625 L 4.96875 -1.140625 C 5.707031 -1.140625 6.253906 -1.289062 6.609375 -1.59375 C 6.972656 -1.90625 7.15625 -2.378906 7.15625 -3.015625 C 7.15625 -3.648438 6.972656 -4.117188 6.609375 -4.421875 C 6.253906 -4.722656 5.707031 -4.875 4.96875 -4.875 Z M 2.75 -9.078125 L 2.75 -6 L 4.796875 -6 C 5.472656 -6 5.972656 -6.125 6.296875 -6.375 C 6.628906 -6.625 6.796875 -7.007812 6.796875 -7.53125 C 6.796875 -8.050781 6.628906 -8.4375 6.296875 -8.6875 C 5.972656 -8.945312 5.472656 -9.078125 4.796875 -9.078125 Z M 1.375 -10.203125 L 4.90625 -10.203125 C 5.957031 -10.203125 6.765625 -9.984375 7.328125 -9.546875 C 7.898438 -9.109375 8.1875 -8.488281 8.1875 -7.6875 C 8.1875 -7.0625 8.039062 -6.5625 7.75 -6.1875 C 7.457031 -5.820312 7.03125 -5.59375 6.46875 -5.5 C 7.144531 -5.351562 7.671875 -5.046875 8.046875 -4.578125 C 8.421875 -4.117188 8.609375 -3.546875 8.609375 -2.859375 C 8.609375 -1.941406 8.296875 -1.234375 7.671875 -0.734375 C 7.054688 -0.242188 6.175781 0 5.03125 0 L 1.375 0 Z M 1.375 -10.203125 \"/>\n",
       "</symbol>\n",
       "<symbol overflow=\"visible\" id=\"glyph0-3\">\n",
       "<path style=\"stroke:none;\" d=\"M 9.015625 -9.421875 L 9.015625 -7.96875 C 8.546875 -8.394531 8.046875 -8.710938 7.515625 -8.921875 C 6.992188 -9.140625 6.441406 -9.25 5.859375 -9.25 C 4.691406 -9.25 3.796875 -8.890625 3.171875 -8.171875 C 2.554688 -7.460938 2.25 -6.4375 2.25 -5.09375 C 2.25 -3.75 2.554688 -2.71875 3.171875 -2 C 3.796875 -1.289062 4.691406 -0.9375 5.859375 -0.9375 C 6.441406 -0.9375 6.992188 -1.039062 7.515625 -1.25 C 8.046875 -1.46875 8.546875 -1.796875 9.015625 -2.234375 L 9.015625 -0.78125 C 8.535156 -0.457031 8.023438 -0.210938 7.484375 -0.046875 C 6.941406 0.117188 6.367188 0.203125 5.765625 0.203125 C 4.222656 0.203125 3.003906 -0.269531 2.109375 -1.21875 C 1.222656 -2.164062 0.78125 -3.457031 0.78125 -5.09375 C 0.78125 -6.726562 1.222656 -8.019531 2.109375 -8.96875 C 3.003906 -9.914062 4.222656 -10.390625 5.765625 -10.390625 C 6.378906 -10.390625 6.957031 -10.304688 7.5 -10.140625 C 8.039062 -9.984375 8.546875 -9.742188 9.015625 -9.421875 Z M 9.015625 -9.421875 \"/>\n",
       "</symbol>\n",
       "<symbol overflow=\"visible\" id=\"glyph0-4\">\n",
       "<path style=\"stroke:none;\" d=\"M 2.75 -9.078125 L 2.75 -1.140625 L 4.421875 -1.140625 C 5.828125 -1.140625 6.859375 -1.457031 7.515625 -2.09375 C 8.171875 -2.726562 8.5 -3.734375 8.5 -5.109375 C 8.5 -6.484375 8.171875 -7.488281 7.515625 -8.125 C 6.859375 -8.757812 5.828125 -9.078125 4.421875 -9.078125 Z M 1.375 -10.203125 L 4.21875 -10.203125 C 6.1875 -10.203125 7.632812 -9.789062 8.5625 -8.96875 C 9.488281 -8.144531 9.953125 -6.859375 9.953125 -5.109375 C 9.953125 -3.347656 9.488281 -2.054688 8.5625 -1.234375 C 7.632812 -0.410156 6.1875 0 4.21875 0 L 1.375 0 Z M 1.375 -10.203125 \"/>\n",
       "</symbol>\n",
       "<symbol overflow=\"visible\" id=\"glyph0-5\">\n",
       "<path style=\"stroke:none;\" d=\"M 1.375 -10.203125 L 7.828125 -10.203125 L 7.828125 -9.046875 L 2.75 -9.046875 L 2.75 -6.015625 L 7.609375 -6.015625 L 7.609375 -4.859375 L 2.75 -4.859375 L 2.75 -1.15625 L 7.953125 -1.15625 L 7.953125 0 L 1.375 0 Z M 1.375 -10.203125 \"/>\n",
       "</symbol>\n",
       "<symbol overflow=\"visible\" id=\"glyph0-6\">\n",
       "<path style=\"stroke:none;\" d=\"M 1.375 -10.203125 L 7.234375 -10.203125 L 7.234375 -9.046875 L 2.75 -9.046875 L 2.75 -6.03125 L 6.796875 -6.03125 L 6.796875 -4.875 L 2.75 -4.875 L 2.75 0 L 1.375 0 Z M 1.375 -10.203125 \"/>\n",
       "</symbol>\n",
       "<symbol overflow=\"visible\" id=\"glyph0-7\">\n",
       "<path style=\"stroke:none;\" d=\"M 8.328125 -1.453125 L 8.328125 -4.203125 L 6.078125 -4.203125 L 6.078125 -5.328125 L 9.703125 -5.328125 L 9.703125 -0.953125 C 9.171875 -0.578125 8.582031 -0.289062 7.9375 -0.09375 C 7.289062 0.101562 6.601562 0.203125 5.875 0.203125 C 4.28125 0.203125 3.03125 -0.257812 2.125 -1.1875 C 1.226562 -2.125 0.78125 -3.425781 0.78125 -5.09375 C 0.78125 -6.757812 1.226562 -8.054688 2.125 -8.984375 C 3.03125 -9.921875 4.28125 -10.390625 5.875 -10.390625 C 6.539062 -10.390625 7.171875 -10.304688 7.765625 -10.140625 C 8.367188 -9.984375 8.925781 -9.742188 9.4375 -9.421875 L 9.4375 -7.953125 C 8.925781 -8.378906 8.382812 -8.703125 7.8125 -8.921875 C 7.238281 -9.140625 6.632812 -9.25 6 -9.25 C 4.75 -9.25 3.8125 -8.898438 3.1875 -8.203125 C 2.5625 -7.515625 2.25 -6.476562 2.25 -5.09375 C 2.25 -3.71875 2.5625 -2.679688 3.1875 -1.984375 C 3.8125 -1.285156 4.75 -0.9375 6 -0.9375 C 6.488281 -0.9375 6.921875 -0.976562 7.296875 -1.0625 C 7.679688 -1.144531 8.023438 -1.273438 8.328125 -1.453125 Z M 8.328125 -1.453125 \"/>\n",
       "</symbol>\n",
       "</g>\n",
       "</defs>\n",
       "<g id=\"surface2\">\n",
       "<rect x=\"0\" y=\"0\" width=\"200\" height=\"200\" style=\"fill:rgb(100%,100%,100%);fill-opacity:1;stroke:none;\"/>\n",
       "<path style=\"fill:none;stroke-width:1;stroke-linecap:butt;stroke-linejoin:miter;stroke:rgb(26.666667%,26.666667%,26.666667%);stroke-opacity:1;stroke-miterlimit:10;\" d=\"M 160.792969 180 L 124.070312 125.152344 \"/>\n",
       "<path style=\"fill:none;stroke-width:1;stroke-linecap:butt;stroke-linejoin:miter;stroke:rgb(26.666667%,26.666667%,26.666667%);stroke-opacity:1;stroke-miterlimit:10;\" d=\"M 160.792969 180 L 180 115.570312 \"/>\n",
       "<path style=\"fill:none;stroke-width:1;stroke-linecap:butt;stroke-linejoin:miter;stroke:rgb(26.666667%,26.666667%,26.666667%);stroke-opacity:1;stroke-miterlimit:10;\" d=\"M 124.070312 125.152344 L 180 115.570312 \"/>\n",
       "<path style=\"fill:none;stroke-width:1;stroke-linecap:butt;stroke-linejoin:miter;stroke:rgb(26.666667%,26.666667%,26.666667%);stroke-opacity:1;stroke-miterlimit:10;\" d=\"M 124.070312 125.152344 L 69.863281 96.265625 \"/>\n",
       "<path style=\"fill:none;stroke-width:1;stroke-linecap:butt;stroke-linejoin:miter;stroke:rgb(26.666667%,26.666667%,26.666667%);stroke-opacity:1;stroke-miterlimit:10;\" d=\"M 69.863281 96.265625 L 20 137.453125 \"/>\n",
       "<path style=\"fill:none;stroke-width:1;stroke-linecap:butt;stroke-linejoin:miter;stroke:rgb(26.666667%,26.666667%,26.666667%);stroke-opacity:1;stroke-miterlimit:10;\" d=\"M 69.863281 96.265625 L 58.746094 20 \"/>\n",
       "<path style=\"fill:none;stroke-width:1;stroke-linecap:butt;stroke-linejoin:miter;stroke:rgb(26.666667%,26.666667%,26.666667%);stroke-opacity:1;stroke-miterlimit:10;\" d=\"M 69.863281 96.265625 L 20.835938 68.054688 \"/>\n",
       "<path style=\"fill:none;stroke-width:1;stroke-linecap:butt;stroke-linejoin:miter;stroke:rgb(26.666667%,26.666667%,26.666667%);stroke-opacity:1;stroke-miterlimit:10;\" d=\"M 20 137.453125 L 20.835938 68.054688 \"/>\n",
       "<path style=\"fill:none;stroke-width:1;stroke-linecap:butt;stroke-linejoin:miter;stroke:rgb(26.666667%,26.666667%,26.666667%);stroke-opacity:1;stroke-miterlimit:10;\" d=\"M 58.746094 20 L 20.835938 68.054688 \"/>\n",
       "<path style=\"fill-rule:nonzero;fill:rgb(100%,0%,0%);fill-opacity:1;stroke-width:1;stroke-linecap:butt;stroke-linejoin:miter;stroke:rgb(0%,0%,0%);stroke-opacity:1;stroke-miterlimit:10;\" d=\"M 170.792969 180 C 170.792969 185.523438 166.316406 190 160.792969 190 C 155.269531 190 150.792969 185.523438 150.792969 180 C 150.792969 174.476562 155.269531 170 160.792969 170 C 166.316406 170 170.792969 174.476562 170.792969 180 \"/>\n",
       "<path style=\"fill-rule:nonzero;fill:rgb(100%,0%,0%);fill-opacity:1;stroke-width:1;stroke-linecap:butt;stroke-linejoin:miter;stroke:rgb(0%,0%,0%);stroke-opacity:1;stroke-miterlimit:10;\" d=\"M 134.070312 125.152344 C 134.070312 130.675781 129.59375 135.152344 124.070312 135.152344 C 118.546875 135.152344 114.070312 130.675781 114.070312 125.152344 C 114.070312 119.628906 118.546875 115.152344 124.070312 115.152344 C 129.59375 115.152344 134.070312 119.628906 134.070312 125.152344 \"/>\n",
       "<path style=\"fill-rule:nonzero;fill:rgb(100%,0%,0%);fill-opacity:1;stroke-width:1;stroke-linecap:butt;stroke-linejoin:miter;stroke:rgb(0%,0%,0%);stroke-opacity:1;stroke-miterlimit:10;\" d=\"M 190 115.570312 C 190 121.09375 185.523438 125.570312 180 125.570312 C 174.476562 125.570312 170 121.09375 170 115.570312 C 170 110.046875 174.476562 105.570312 180 105.570312 C 185.523438 105.570312 190 110.046875 190 115.570312 \"/>\n",
       "<path style=\"fill-rule:nonzero;fill:rgb(100%,0%,0%);fill-opacity:1;stroke-width:1;stroke-linecap:butt;stroke-linejoin:miter;stroke:rgb(0%,0%,0%);stroke-opacity:1;stroke-miterlimit:10;\" d=\"M 79.863281 96.265625 C 79.863281 101.789062 75.382812 106.265625 69.863281 106.265625 C 64.339844 106.265625 59.863281 101.789062 59.863281 96.265625 C 59.863281 90.742188 64.339844 86.265625 69.863281 86.265625 C 75.382812 86.265625 79.863281 90.742188 79.863281 96.265625 \"/>\n",
       "<path style=\"fill-rule:nonzero;fill:rgb(100%,0%,0%);fill-opacity:1;stroke-width:1;stroke-linecap:butt;stroke-linejoin:miter;stroke:rgb(0%,0%,0%);stroke-opacity:1;stroke-miterlimit:10;\" d=\"M 30 137.453125 C 30 142.976562 25.523438 147.453125 20 147.453125 C 14.476562 147.453125 10 142.976562 10 137.453125 C 10 131.933594 14.476562 127.453125 20 127.453125 C 25.523438 127.453125 30 131.933594 30 137.453125 \"/>\n",
       "<path style=\"fill-rule:nonzero;fill:rgb(100%,0%,0%);fill-opacity:1;stroke-width:1;stroke-linecap:butt;stroke-linejoin:miter;stroke:rgb(0%,0%,0%);stroke-opacity:1;stroke-miterlimit:10;\" d=\"M 68.746094 20 C 68.746094 25.523438 64.269531 30 58.746094 30 C 53.222656 30 48.746094 25.523438 48.746094 20 C 48.746094 14.476562 53.222656 10 58.746094 10 C 64.269531 10 68.746094 14.476562 68.746094 20 \"/>\n",
       "<path style=\"fill-rule:nonzero;fill:rgb(100%,0%,0%);fill-opacity:1;stroke-width:1;stroke-linecap:butt;stroke-linejoin:miter;stroke:rgb(0%,0%,0%);stroke-opacity:1;stroke-miterlimit:10;\" d=\"M 30.835938 68.054688 C 30.835938 73.578125 26.359375 78.054688 20.835938 78.054688 C 15.3125 78.054688 10.835938 73.578125 10.835938 68.054688 C 10.835938 62.535156 15.3125 58.054688 20.835938 58.054688 C 26.359375 58.054688 30.835938 62.535156 30.835938 68.054688 \"/>\n",
       "<g style=\"fill:rgb(0%,0%,0%);fill-opacity:1;\">\n",
       "  <use xlink:href=\"#glyph0-1\" x=\"156.007812\" y=\"186.753906\"/>\n",
       "</g>\n",
       "<g style=\"fill:rgb(0%,0%,0%);fill-opacity:1;\">\n",
       "  <use xlink:href=\"#glyph0-2\" x=\"119.078125\" y=\"131.90625\"/>\n",
       "</g>\n",
       "<g style=\"fill:rgb(0%,0%,0%);fill-opacity:1;\">\n",
       "  <use xlink:href=\"#glyph0-3\" x=\"175.097656\" y=\"122.414062\"/>\n",
       "</g>\n",
       "<g style=\"fill:rgb(0%,0%,0%);fill-opacity:1;\">\n",
       "  <use xlink:href=\"#glyph0-4\" x=\"64.199219\" y=\"103.019531\"/>\n",
       "</g>\n",
       "<g style=\"fill:rgb(0%,0%,0%);fill-opacity:1;\">\n",
       "  <use xlink:href=\"#glyph0-5\" x=\"15.335938\" y=\"144.207031\"/>\n",
       "</g>\n",
       "<g style=\"fill:rgb(0%,0%,0%);fill-opacity:1;\">\n",
       "  <use xlink:href=\"#glyph0-6\" x=\"54.441406\" y=\"26.753906\"/>\n",
       "</g>\n",
       "<g style=\"fill:rgb(0%,0%,0%);fill-opacity:1;\">\n",
       "  <use xlink:href=\"#glyph0-7\" x=\"15.59375\" y=\"74.902344\"/>\n",
       "</g>\n",
       "</g>\n",
       "</svg>\n"
      ],
      "text/plain": [
       "<igraph.drawing.Plot at 0x7f837c533150>"
      ]
     },
     "execution_count": 2,
     "metadata": {},
     "output_type": "execute_result"
    }
   ],
   "source": [
    "import numpy as np\n",
    "import igraph\n",
    "\n",
    "from networks_lib.toygraph import *\n",
    "\n",
    "toy_mat = get_toy_mat()\n",
    "plot_toy()"
   ]
  },
  {
   "cell_type": "code",
   "execution_count": 3,
   "metadata": {},
   "outputs": [
    {
     "data": {
      "text/plain": [
       "array([[0, 1, 1, 0, 0, 0, 0],\n",
       "       [1, 0, 1, 1, 0, 0, 0],\n",
       "       [1, 1, 0, 0, 0, 0, 0],\n",
       "       [0, 1, 0, 0, 1, 1, 1],\n",
       "       [0, 0, 0, 1, 0, 0, 1],\n",
       "       [0, 0, 0, 1, 0, 0, 1],\n",
       "       [0, 0, 0, 1, 1, 1, 0]])"
      ]
     },
     "execution_count": 3,
     "metadata": {},
     "output_type": "execute_result"
    }
   ],
   "source": [
    "# This is the adjacency matrix for the graph\n",
    "# rows and columns are in alphabetical order A-G\n",
    "toy_mat"
   ]
  },
  {
   "cell_type": "markdown",
   "metadata": {},
   "source": [
    "### Part A: Warm-up \n",
    "\n",
    "**Problem 1** What is the degree of each node in the graph?\n",
    "\n",
    "**TODO**: Fill this in A: 2, B: 3, ...\n",
    "\n",
    "**Problem 2** Compute degrees from the adjacency matrix and compare to your answer"
   ]
  },
  {
   "cell_type": "code",
   "execution_count": 4,
   "metadata": {},
   "outputs": [],
   "source": [
    "## write out your answer to Problem 1\n",
    "toy_deg_answer = np.array([2, 3, 2, 4, 2, 2, 3])\n",
    "\n",
    "## compute the degrees from the adjacency matrix\n",
    "toy_deg = np.zeros(toy_mat.shape[0])\n",
    "toy_deg = toy_mat.sum(axis = 0)\n",
    "\n",
    "## check this assertion passes\n",
    "assert(np.all(toy_deg_answer == toy_deg))"
   ]
  },
  {
   "cell_type": "markdown",
   "metadata": {},
   "source": [
    "**Problem 3** Use the adjacency matrix to find the neighbors of node F"
   ]
  },
  {
   "cell_type": "code",
   "execution_count": 5,
   "metadata": {},
   "outputs": [],
   "source": [
    "## write out the neighbors of node F by hand (I gave you one of them)\n",
    "f_neighbors_answer = np.array([3, 6])\n",
    "\n",
    "## use the adjacency matrix to find the neighbors\n",
    "f_neighbors = np.zeros(2)\n",
    "f_neighbors = np.where(toy_mat[5] == 1)[0]\n",
    "\n",
    "## check this assertion passes\n",
    "assert(np.all(f_neighbors_answer == f_neighbors))"
   ]
  },
  {
   "cell_type": "markdown",
   "metadata": {},
   "source": [
    "### Part B: All pairwise-distances\n",
    "\n",
    "The distance between two nodes in the network is the length of the shortest path in the network. In this section we are going to use breadth-first-search to compute all pairwise distances.\n",
    "\n",
    "The algorithm will roughly work as follows:\n",
    "\n",
    "<pre>\n",
    "Input: Adjacency matrix of size n by n  \n",
    "Output: Distance matrix `dist` of size n by n  \n",
    "    - For each vertex `u` in the network  \n",
    "    - Create boolean array `visited` of length n   \n",
    "    - Initialize all vertices u as `visited[u]=False`  \n",
    "    - Push tuple `(u, 0)` to a (first-in-first-out) queue `Q`  \n",
    "    - While `Q` is not empty:  \n",
    "        - Pop tuple `(v,d)` from the top of `Q`  \n",
    "        - Set `visited[v]=True`  \n",
    "        - Set distance `dist[u,v]=d`  \n",
    "        - For each neighbor `w` of `v`  \n",
    "            - if `visited[w]=False`, push tuple `(w, d+1)` to `Q`  \n",
    "</pre>\n",
    "\n",
    "In python you can use the [collections.deque](https://docs.python.org/2/library/collections.html#collections.deque) module to implement the FIFO queue. You can `append` (to the right) to push, and `popleft` to pop (from the left)."
   ]
  },
  {
   "cell_type": "markdown",
   "metadata": {},
   "source": [
    "**Problem 1** Implement and test the algorithm for all pairwise distances."
   ]
  },
  {
   "cell_type": "code",
   "execution_count": 6,
   "metadata": {},
   "outputs": [],
   "source": [
    "from networks_lib.distance import bfs_distance\n",
    "\n",
    "## Write out by hand the distance matrix for our toy graph\n",
    "## expected_dist[0:1,0:1] is correct below, fill in the rest\n",
    "expected_dist = np.array([[0,1,1,2,3,3,3],\n",
    "                          [1,0,1,1,2,2,2],\n",
    "                          [1,1,0,2,3,3,3],\n",
    "                          [2,1,2,0,1,1,1],\n",
    "                          [3,2,3,1,0,2,1],\n",
    "                          [3,2,3,1,2,0,1],\n",
    "                          [3,2,3,1,1,1,0]])\n",
    "\n",
    "## Implement your BFS all pairwise distance algorithm\n",
    "## Do so in the `networks_lib.distance` module\n",
    "toy_dist = bfs_distance(toy_mat)\n",
    "\n",
    "## check this assertion is true\n",
    "assert(np.all(expected_dist == toy_dist))"
   ]
  },
  {
   "cell_type": "code",
   "execution_count": 7,
   "metadata": {},
   "outputs": [
    {
     "data": {
      "text/plain": [
       "array([[0., 1., 1., 2., 3., 3., 3.],\n",
       "       [1., 0., 1., 1., 2., 2., 2.],\n",
       "       [1., 1., 0., 2., 3., 3., 3.],\n",
       "       [2., 1., 2., 0., 1., 1., 1.],\n",
       "       [3., 2., 3., 1., 0., 2., 1.],\n",
       "       [3., 2., 3., 1., 2., 0., 1.],\n",
       "       [3., 2., 3., 1., 1., 1., 0.]])"
      ]
     },
     "execution_count": 7,
     "metadata": {},
     "output_type": "execute_result"
    }
   ],
   "source": [
    "toy_dist"
   ]
  },
  {
   "cell_type": "markdown",
   "metadata": {},
   "source": [
    "**Problem 2** Using distance to find graph components. Let's make a copy of the network adjacency matrix and remove edge `B-D`."
   ]
  },
  {
   "cell_type": "code",
   "execution_count": 8,
   "metadata": {},
   "outputs": [
    {
     "data": {
      "text/plain": [
       "array([[0, 1, 1, 0, 0, 0, 0],\n",
       "       [1, 0, 1, 0, 0, 0, 0],\n",
       "       [1, 1, 0, 0, 0, 0, 0],\n",
       "       [0, 0, 0, 0, 1, 1, 1],\n",
       "       [0, 0, 0, 1, 0, 0, 1],\n",
       "       [0, 0, 0, 1, 0, 0, 1],\n",
       "       [0, 0, 0, 1, 1, 1, 0]])"
      ]
     },
     "execution_count": 8,
     "metadata": {},
     "output_type": "execute_result"
    }
   ],
   "source": [
    "toy_copy = toy_mat.copy()\n",
    "toy_copy[1,3] = 0\n",
    "toy_copy[3,1] = 0\n",
    "toy_copy"
   ]
  },
  {
   "cell_type": "markdown",
   "metadata": {},
   "source": [
    "The resulting network has two components (A,B,C) and (D,E,F,G). We can use a distance matrix to identify those components since any pair of nodes `u` and `v` for which `d(u,v)< np.inf` \n",
    "are reachable (means there is a path between `u` and `v`).\n",
    "\n",
    "The procedure will roughly be:\n",
    "\n",
    "<pre>\n",
    "- mark all vertices are `unused`\n",
    "- while any nodes are `unused`:\n",
    "  - choose any unused node `u`\n",
    "  - return `u` and all vertices `v` with `d(u,v) < np.inf` as a component and mark as used.\n",
    "</pre>"
   ]
  },
  {
   "cell_type": "code",
   "execution_count": 9,
   "metadata": {},
   "outputs": [],
   "source": [
    "from networks_lib.distance import get_components\n",
    "\n",
    "## these are the expected components for the new graph\n",
    "expected_components = [np.array([0,1,2]), np.array([3,4,5,6])]\n",
    "\n",
    "## implement the component finding function based on your distance matrix\n",
    "components = get_components(toy_copy)\n",
    "#components = [np.zeros(3), np.zeros(4)]\n",
    "\n",
    "## make this assertion pass\n",
    "assert(all([np.all(x == y) for (x,y) in zip(expected_components,components)]))"
   ]
  },
  {
   "cell_type": "code",
   "execution_count": 10,
   "metadata": {},
   "outputs": [
    {
     "data": {
      "text/plain": [
       "[[0, 1, 2], [3, 4, 5, 6]]"
      ]
     },
     "execution_count": 10,
     "metadata": {},
     "output_type": "execute_result"
    }
   ],
   "source": [
    "components"
   ]
  },
  {
   "cell_type": "markdown",
   "metadata": {},
   "source": [
    "### Part C: Edge Betweeness\n",
    "\n",
    "In this section you will implement the edge betweenness algorithm described in book and lecture notes as part of the Girvan-Newman algorithm. \n",
    "\n",
    "**Problem 1** Implement the breadth-first algorithm to compute the number of shortest paths starting from a specific vertex going through each edge in the graph."
   ]
  },
  {
   "cell_type": "code",
   "execution_count": 11,
   "metadata": {},
   "outputs": [],
   "source": [
    "from networks_lib.betweenness import edge_counts\n",
    "\n",
    "## Write out by hand a matrix containing the shortest path count starting from vertex E.\n",
    "## In the result matrix entry i,j has the count for the edge i-j in the graph.\n",
    "## This was shown as an example in lecture notes.\n",
    "##\n",
    "## expected_dist[0:1,0:1] is correct below, fill in the rest\n",
    "expected_counts = np.array([[0, 1, 0, 0, 0, 0, 0],\n",
    "                            [1, 0, 1, 3, 0, 0, 0],\n",
    "                            [0, 1, 0, 0, 0, 0, 0],\n",
    "                            [0, 3, 0, 0, 5, 1, 0],\n",
    "                            [0, 0, 0, 5, 0, 0, 2],\n",
    "                            [0, 0, 0, 1, 0, 0, 1],\n",
    "                            [0, 0, 0, 0, 2, 1, 0]])\n",
    "\n",
    "## implement the function edge_count \n",
    "counts = edge_counts(4, toy_mat)\n",
    "\n",
    "## make sure this assertion passes\n",
    "assert(np.all(counts == expected_counts))"
   ]
  },
  {
   "cell_type": "code",
   "execution_count": 12,
   "metadata": {},
   "outputs": [
    {
     "data": {
      "text/plain": [
       "array([[0., 1., 0., 0., 0., 0., 0.],\n",
       "       [1., 0., 1., 3., 0., 0., 0.],\n",
       "       [0., 1., 0., 0., 0., 0., 0.],\n",
       "       [0., 3., 0., 0., 5., 1., 0.],\n",
       "       [0., 0., 0., 5., 0., 0., 2.],\n",
       "       [0., 0., 0., 1., 0., 0., 1.],\n",
       "       [0., 0., 0., 0., 2., 1., 0.]])"
      ]
     },
     "execution_count": 12,
     "metadata": {},
     "output_type": "execute_result"
    }
   ],
   "source": [
    "counts"
   ]
  },
  {
   "cell_type": "markdown",
   "metadata": {},
   "source": [
    "**Problem 2**: Confirm the edge betweenness function works properly by comparing result to\n",
    "igraph's computation"
   ]
  },
  {
   "cell_type": "code",
   "execution_count": 14,
   "metadata": {},
   "outputs": [
    {
     "ename": "AssertionError",
     "evalue": "",
     "output_type": "error",
     "traceback": [
      "\u001b[0;31m---------------------------------------------------------------------------\u001b[0m",
      "\u001b[0;31mAssertionError\u001b[0m                            Traceback (most recent call last)",
      "\u001b[0;32m<ipython-input-14-a3ac715cf901>\u001b[0m in \u001b[0;36m<module>\u001b[0;34m\u001b[0m\n\u001b[1;32m      9\u001b[0m \u001b[0mtoy_betweenness\u001b[0m \u001b[0;34m=\u001b[0m \u001b[0medge_betweenness\u001b[0m\u001b[0;34m(\u001b[0m\u001b[0mtoy_mat\u001b[0m\u001b[0;34m)\u001b[0m\u001b[0;34m\u001b[0m\u001b[0;34m\u001b[0m\u001b[0m\n\u001b[1;32m     10\u001b[0m \u001b[0mtoy_betweenness\u001b[0m\u001b[0;34m\u001b[0m\u001b[0;34m\u001b[0m\u001b[0m\n\u001b[0;32m---> 11\u001b[0;31m \u001b[0;32massert\u001b[0m\u001b[0;34m(\u001b[0m\u001b[0mnp\u001b[0m\u001b[0;34m.\u001b[0m\u001b[0mall\u001b[0m\u001b[0;34m(\u001b[0m\u001b[0mexpected_betweenness\u001b[0m \u001b[0;34m==\u001b[0m \u001b[0mnp\u001b[0m\u001b[0;34m.\u001b[0m\u001b[0mtriu\u001b[0m\u001b[0;34m(\u001b[0m\u001b[0mtoy_betweenness\u001b[0m\u001b[0;34m)\u001b[0m\u001b[0;34m[\u001b[0m\u001b[0mnp\u001b[0m\u001b[0;34m.\u001b[0m\u001b[0mwhere\u001b[0m\u001b[0;34m(\u001b[0m\u001b[0mnp\u001b[0m\u001b[0;34m.\u001b[0m\u001b[0mtriu\u001b[0m\u001b[0;34m(\u001b[0m\u001b[0mtoy_mat\u001b[0m\u001b[0;34m)\u001b[0m\u001b[0;34m>\u001b[0m\u001b[0;36m0\u001b[0m\u001b[0;34m)\u001b[0m\u001b[0;34m]\u001b[0m\u001b[0;34m)\u001b[0m\u001b[0;34m)\u001b[0m\u001b[0;34m\u001b[0m\u001b[0;34m\u001b[0m\u001b[0m\n\u001b[0m",
      "\u001b[0;31mAssertionError\u001b[0m: "
     ]
    }
   ],
   "source": [
    "from networks_lib.betweenness import edge_betweenness\n",
    "from networks_lib.toygraph import get_toy_graph\n",
    "\n",
    "## compute edge betweenness using igraph\n",
    "g = get_toy_graph()\n",
    "expected_betweenness = g.edge_betweenness()\n",
    "\n",
    "## after implementing the `edge_counts` function above\n",
    "toy_betweenness = edge_betweenness(toy_mat)\n",
    "toy_betweenness\n",
    "assert(np.all(expected_betweenness == np.triu(toy_betweenness)[np.where(np.triu(toy_mat)>0)]))"
   ]
  },
  {
   "cell_type": "markdown",
   "metadata": {},
   "source": [
    "### Part D: Girvan-Newman community finding\n",
    "\n",
    "Now we use all of the above to do community analysis on the graph.\n",
    "\n",
    "The procedure should be as follows\n",
    "\n",
    "<pre>\n",
    "Input: adjacency matrix, and number of communities K\n",
    "Output: array of community assignments\n",
    "\n",
    "set components = [ [all vertices] ]\n",
    "while number of components < K:\n",
    "    - compute edge betweenness (edge_betweenness)\n",
    "    - remove edge with highest edge betweenness\n",
    "    - find components in the graph (get_components)\n",
    "return an array with community assignments \n",
    "</pre>"
   ]
  },
  {
   "cell_type": "code",
   "execution_count": 61,
   "metadata": {},
   "outputs": [],
   "source": [
    "import igraph\n",
    "from networks_lib.toygraph import get_toy_graph\n",
    "from networks_lib.communities import girvan_newman\n",
    "\n",
    "## Let's use igraph to find 2 communities in the toy example\n",
    "g = get_toy_graph()\n",
    "expected_assignment = g.community_edge_betweenness(clusters=2).as_clustering().membership\n",
    "expected_assignment\n",
    "\n",
    "## Implement the girvan-newman algorithm\n",
    "assignment = girvan_newman(toy_mat, 2)\n",
    "\n",
    "## make this assertion pass\n",
    "assert(np.all(assignment == np.array(assignment)))"
   ]
  },
  {
   "cell_type": "markdown",
   "metadata": {},
   "source": [
    "### Part E: K-mediods clustering\n",
    "\n",
    "Now we use K-mediods clustering on the graph distance matrix. We will build the algorithm in steps.\n",
    "\n",
    "**Problem 1**: Implement random initialization "
   ]
  },
  {
   "cell_type": "code",
   "execution_count": 23,
   "metadata": {},
   "outputs": [],
   "source": [
    "from networks_lib.kmedioids import random_init\n",
    "from networks_lib.distance import bfs_distance\n",
    "\n",
    "toy_dist = bfs_distance(toy_mat)\n",
    "medioids = random_init(toy_dist, 2)\n",
    "\n",
    "assert(len(medioids) == 2)"
   ]
  },
  {
   "cell_type": "code",
   "execution_count": 24,
   "metadata": {},
   "outputs": [
    {
     "data": {
      "text/plain": [
       "[0, 6]"
      ]
     },
     "execution_count": 24,
     "metadata": {},
     "output_type": "execute_result"
    }
   ],
   "source": [
    "medioids"
   ]
  },
  {
   "cell_type": "markdown",
   "metadata": {},
   "source": [
    "**Problem 2**: Now let's implement the assignment function, given medioids, assign each vertex\n",
    "to the nearest medioid"
   ]
  },
  {
   "cell_type": "code",
   "execution_count": 45,
   "metadata": {},
   "outputs": [
    {
     "name": "stdout",
     "output_type": "stream",
     "text": [
      "[[0. 1. 1. 2. 3. 3. 3.]\n",
      " [1. 0. 1. 1. 2. 2. 2.]\n",
      " [1. 1. 0. 2. 3. 3. 3.]\n",
      " [2. 1. 2. 0. 1. 1. 1.]\n",
      " [3. 2. 3. 1. 0. 2. 1.]\n",
      " [3. 2. 3. 1. 2. 0. 1.]\n",
      " [3. 2. 3. 1. 1. 1. 0.]] [1 4]\n"
     ]
    }
   ],
   "source": [
    "from networks_lib.kmedioids import assign\n",
    "\n",
    "# suppose vertices 'B' and 'E' are chosen\n",
    "mediods = np.array([1, 4])\n",
    "\n",
    "# correct this assignment\n",
    "expected_assignment = np.array([1, 1, 1, 1, 4, 1, 4])\n",
    "\n",
    "# compute assignment\n",
    "assignment = assign(toy_dist, mediods)\n",
    "\n",
    "assert(np.all(expected_assignment == assignment))"
   ]
  },
  {
   "cell_type": "code",
   "execution_count": 46,
   "metadata": {},
   "outputs": [
    {
     "data": {
      "text/plain": [
       "array([1., 1., 1., 1., 4., 1., 4.])"
      ]
     },
     "execution_count": 46,
     "metadata": {},
     "output_type": "execute_result"
    }
   ],
   "source": [
    "assignment"
   ]
  },
  {
   "cell_type": "markdown",
   "metadata": {},
   "source": [
    "**Problem 3**: Now implement a function to determine medioids given an assignment"
   ]
  },
  {
   "cell_type": "code",
   "execution_count": 68,
   "metadata": {},
   "outputs": [
    {
     "name": "stdout",
     "output_type": "stream",
     "text": [
      "[[0. 1. 1. 2. 3. 3. 3.]\n",
      " [1. 0. 1. 1. 2. 2. 2.]\n",
      " [1. 1. 0. 2. 3. 3. 3.]\n",
      " [2. 1. 2. 0. 1. 1. 1.]\n",
      " [3. 2. 3. 1. 0. 2. 1.]\n",
      " [3. 2. 3. 1. 2. 0. 1.]\n",
      " [3. 2. 3. 1. 1. 1. 0.]] [0 1 1 1 1 1 1] 2\n",
      "dists {0: 0.0}\n",
      "dists {1: 8.0, 2: 12.0, 3: 6.0, 4: 9.0, 5: 9.0, 6: 8.0}\n"
     ]
    }
   ],
   "source": [
    "from networks_lib.kmedioids import get_medioids\n",
    "\n",
    "# In this case all but 'A' are assigned to one cluster\n",
    "assignment = np.array([0, 1, 1, 1, 1, 1, 1])\n",
    "\n",
    "# what would the medioids be in that case?\n",
    "expected_medioids = np.array([0, 3])\n",
    "\n",
    "# implement the get_medioids function\n",
    "medioids = get_medioids(toy_dist, assignment, 2)\n",
    "\n",
    "# make this assertion work\n",
    "assert(np.all(expected_medioids == medioids))"
   ]
  },
  {
   "cell_type": "code",
   "execution_count": 69,
   "metadata": {},
   "outputs": [
    {
     "data": {
      "text/plain": [
       "array([0., 3.])"
      ]
     },
     "execution_count": 69,
     "metadata": {},
     "output_type": "execute_result"
    }
   ],
   "source": [
    "medioids"
   ]
  },
  {
   "cell_type": "markdown",
   "metadata": {},
   "source": [
    "**Problem 4**: Finish implementing k-medioids"
   ]
  },
  {
   "cell_type": "code",
   "execution_count": 78,
   "metadata": {},
   "outputs": [
    {
     "name": "stdout",
     "output_type": "stream",
     "text": [
      "assign [[0. 1. 1. 2. 3. 3. 3.]\n",
      " [1. 0. 1. 1. 2. 2. 2.]\n",
      " [1. 1. 0. 2. 3. 3. 3.]\n",
      " [2. 1. 2. 0. 1. 1. 1.]\n",
      " [3. 2. 3. 1. 0. 2. 1.]\n",
      " [3. 2. 3. 1. 2. 0. 1.]\n",
      " [3. 2. 3. 1. 1. 1. 0.]] [4, 6]\n",
      "[4. 4. 4. 4. 4. 6. 6.]\n",
      "[[0. 1. 1. 2. 3. 3. 3.]\n",
      " [1. 0. 1. 1. 2. 2. 2.]\n",
      " [1. 1. 0. 2. 3. 3. 3.]\n",
      " [2. 1. 2. 0. 1. 1. 1.]\n",
      " [3. 2. 3. 1. 0. 2. 1.]\n",
      " [3. 2. 3. 1. 2. 0. 1.]\n",
      " [3. 2. 3. 1. 1. 1. 0.]] [4. 4. 4. 4. 4. 6. 6.] 2\n",
      "ass {4.0: [0, 1, 2, 3, 4], 6.0: [5, 6]}\n",
      "dists {0: 7.0, 1: 5.0, 2: 7.0, 3: 6.0, 4: 9.0}\n",
      "dists {5: 1.0, 6: 1.0}\n",
      "ret get medioids [1. 5.] [1, 5]\n",
      "assign [[0. 1. 1. 2. 3. 3. 3.]\n",
      " [1. 0. 1. 1. 2. 2. 2.]\n",
      " [1. 1. 0. 2. 3. 3. 3.]\n",
      " [2. 1. 2. 0. 1. 1. 1.]\n",
      " [3. 2. 3. 1. 0. 2. 1.]\n",
      " [3. 2. 3. 1. 2. 0. 1.]\n",
      " [3. 2. 3. 1. 1. 1. 0.]] [1, 5]\n",
      "[1. 1. 1. 1. 1. 5. 5.]\n",
      "[[0. 1. 1. 2. 3. 3. 3.]\n",
      " [1. 0. 1. 1. 2. 2. 2.]\n",
      " [1. 1. 0. 2. 3. 3. 3.]\n",
      " [2. 1. 2. 0. 1. 1. 1.]\n",
      " [3. 2. 3. 1. 0. 2. 1.]\n",
      " [3. 2. 3. 1. 2. 0. 1.]\n",
      " [3. 2. 3. 1. 1. 1. 0.]] [1. 1. 1. 1. 1. 5. 5.] 2\n",
      "ass {1.0: [0, 1, 2, 3, 4], 5.0: [5, 6]}\n",
      "dists {0: 7.0, 1: 5.0, 2: 7.0, 3: 6.0, 4: 9.0}\n",
      "dists {5: 1.0, 6: 1.0}\n",
      "ret get medioids [1. 5.] [1, 5]\n",
      "assign [[0. 1. 1. 2. 3. 3. 3.]\n",
      " [1. 0. 1. 1. 2. 2. 2.]\n",
      " [1. 1. 0. 2. 3. 3. 3.]\n",
      " [2. 1. 2. 0. 1. 1. 1.]\n",
      " [3. 2. 3. 1. 0. 2. 1.]\n",
      " [3. 2. 3. 1. 2. 0. 1.]\n",
      " [3. 2. 3. 1. 1. 1. 0.]] [1, 5]\n",
      "[1. 1. 1. 1. 1. 5. 5.]\n",
      "[[0. 1. 1. 2. 3. 3. 3.]\n",
      " [1. 0. 1. 1. 2. 2. 2.]\n",
      " [1. 1. 0. 2. 3. 3. 3.]\n",
      " [2. 1. 2. 0. 1. 1. 1.]\n",
      " [3. 2. 3. 1. 0. 2. 1.]\n",
      " [3. 2. 3. 1. 2. 0. 1.]\n",
      " [3. 2. 3. 1. 1. 1. 0.]] [1. 1. 1. 1. 1. 5. 5.] 2\n",
      "ass {1.0: [0, 1, 2, 3, 4], 5.0: [5, 6]}\n",
      "dists {0: 7.0, 1: 5.0, 2: 7.0, 3: 6.0, 4: 9.0}\n",
      "dists {5: 1.0, 6: 1.0}\n",
      "ret get medioids [1. 5.] [1, 5]\n",
      "assign [[0. 1. 1. 2. 3. 3. 3.]\n",
      " [1. 0. 1. 1. 2. 2. 2.]\n",
      " [1. 1. 0. 2. 3. 3. 3.]\n",
      " [2. 1. 2. 0. 1. 1. 1.]\n",
      " [3. 2. 3. 1. 0. 2. 1.]\n",
      " [3. 2. 3. 1. 2. 0. 1.]\n",
      " [3. 2. 3. 1. 1. 1. 0.]] [1, 5]\n",
      "[1. 1. 1. 1. 1. 5. 5.]\n",
      "[[0. 1. 1. 2. 3. 3. 3.]\n",
      " [1. 0. 1. 1. 2. 2. 2.]\n",
      " [1. 1. 0. 2. 3. 3. 3.]\n",
      " [2. 1. 2. 0. 1. 1. 1.]\n",
      " [3. 2. 3. 1. 0. 2. 1.]\n",
      " [3. 2. 3. 1. 2. 0. 1.]\n",
      " [3. 2. 3. 1. 1. 1. 0.]] [1. 1. 1. 1. 1. 5. 5.] 2\n",
      "ass {1.0: [0, 1, 2, 3, 4], 5.0: [5, 6]}\n",
      "dists {0: 7.0, 1: 5.0, 2: 7.0, 3: 6.0, 4: 9.0}\n",
      "dists {5: 1.0, 6: 1.0}\n",
      "ret get medioids [1. 5.] [1, 5]\n",
      "assign [[0. 1. 1. 2. 3. 3. 3.]\n",
      " [1. 0. 1. 1. 2. 2. 2.]\n",
      " [1. 1. 0. 2. 3. 3. 3.]\n",
      " [2. 1. 2. 0. 1. 1. 1.]\n",
      " [3. 2. 3. 1. 0. 2. 1.]\n",
      " [3. 2. 3. 1. 2. 0. 1.]\n",
      " [3. 2. 3. 1. 1. 1. 0.]] [1, 5]\n",
      "[1. 1. 1. 1. 1. 5. 5.]\n",
      "[[0. 1. 1. 2. 3. 3. 3.]\n",
      " [1. 0. 1. 1. 2. 2. 2.]\n",
      " [1. 1. 0. 2. 3. 3. 3.]\n",
      " [2. 1. 2. 0. 1. 1. 1.]\n",
      " [3. 2. 3. 1. 0. 2. 1.]\n",
      " [3. 2. 3. 1. 2. 0. 1.]\n",
      " [3. 2. 3. 1. 1. 1. 0.]] [1. 1. 1. 1. 1. 5. 5.] 2\n",
      "ass {1.0: [0, 1, 2, 3, 4], 5.0: [5, 6]}\n",
      "dists {0: 7.0, 1: 5.0, 2: 7.0, 3: 6.0, 4: 9.0}\n",
      "dists {5: 1.0, 6: 1.0}\n",
      "ret get medioids [1. 5.] [1, 5]\n",
      "assign [[0. 1. 1. 2. 3. 3. 3.]\n",
      " [1. 0. 1. 1. 2. 2. 2.]\n",
      " [1. 1. 0. 2. 3. 3. 3.]\n",
      " [2. 1. 2. 0. 1. 1. 1.]\n",
      " [3. 2. 3. 1. 0. 2. 1.]\n",
      " [3. 2. 3. 1. 2. 0. 1.]\n",
      " [3. 2. 3. 1. 1. 1. 0.]] [1, 5]\n",
      "[1. 1. 1. 1. 1. 5. 5.]\n",
      "[[0. 1. 1. 2. 3. 3. 3.]\n",
      " [1. 0. 1. 1. 2. 2. 2.]\n",
      " [1. 1. 0. 2. 3. 3. 3.]\n",
      " [2. 1. 2. 0. 1. 1. 1.]\n",
      " [3. 2. 3. 1. 0. 2. 1.]\n",
      " [3. 2. 3. 1. 2. 0. 1.]\n",
      " [3. 2. 3. 1. 1. 1. 0.]] [1. 1. 1. 1. 1. 5. 5.] 2\n",
      "ass {1.0: [0, 1, 2, 3, 4], 5.0: [5, 6]}\n",
      "dists {0: 7.0, 1: 5.0, 2: 7.0, 3: 6.0, 4: 9.0}\n",
      "dists {5: 1.0, 6: 1.0}\n",
      "ret get medioids [1. 5.] [1, 5]\n",
      "assign [[0. 1. 1. 2. 3. 3. 3.]\n",
      " [1. 0. 1. 1. 2. 2. 2.]\n",
      " [1. 1. 0. 2. 3. 3. 3.]\n",
      " [2. 1. 2. 0. 1. 1. 1.]\n",
      " [3. 2. 3. 1. 0. 2. 1.]\n",
      " [3. 2. 3. 1. 2. 0. 1.]\n",
      " [3. 2. 3. 1. 1. 1. 0.]] [1, 5]\n",
      "[1. 1. 1. 1. 1. 5. 5.]\n",
      "[[0. 1. 1. 2. 3. 3. 3.]\n",
      " [1. 0. 1. 1. 2. 2. 2.]\n",
      " [1. 1. 0. 2. 3. 3. 3.]\n",
      " [2. 1. 2. 0. 1. 1. 1.]\n",
      " [3. 2. 3. 1. 0. 2. 1.]\n",
      " [3. 2. 3. 1. 2. 0. 1.]\n",
      " [3. 2. 3. 1. 1. 1. 0.]] [1. 1. 1. 1. 1. 5. 5.] 2\n",
      "ass {1.0: [0, 1, 2, 3, 4], 5.0: [5, 6]}\n",
      "dists {0: 7.0, 1: 5.0, 2: 7.0, 3: 6.0, 4: 9.0}\n",
      "dists {5: 1.0, 6: 1.0}\n",
      "ret get medioids [1. 5.] [1, 5]\n",
      "assign [[0. 1. 1. 2. 3. 3. 3.]\n",
      " [1. 0. 1. 1. 2. 2. 2.]\n",
      " [1. 1. 0. 2. 3. 3. 3.]\n",
      " [2. 1. 2. 0. 1. 1. 1.]\n",
      " [3. 2. 3. 1. 0. 2. 1.]\n",
      " [3. 2. 3. 1. 2. 0. 1.]\n",
      " [3. 2. 3. 1. 1. 1. 0.]] [1, 5]\n",
      "[1. 1. 1. 1. 1. 5. 5.]\n",
      "[[0. 1. 1. 2. 3. 3. 3.]\n",
      " [1. 0. 1. 1. 2. 2. 2.]\n",
      " [1. 1. 0. 2. 3. 3. 3.]\n",
      " [2. 1. 2. 0. 1. 1. 1.]\n",
      " [3. 2. 3. 1. 0. 2. 1.]\n",
      " [3. 2. 3. 1. 2. 0. 1.]\n",
      " [3. 2. 3. 1. 1. 1. 0.]] [1. 1. 1. 1. 1. 5. 5.] 2\n",
      "ass {1.0: [0, 1, 2, 3, 4], 5.0: [5, 6]}\n",
      "dists {0: 7.0, 1: 5.0, 2: 7.0, 3: 6.0, 4: 9.0}\n",
      "dists {5: 1.0, 6: 1.0}\n",
      "ret get medioids [1. 5.] [1, 5]\n",
      "assign [[0. 1. 1. 2. 3. 3. 3.]\n",
      " [1. 0. 1. 1. 2. 2. 2.]\n",
      " [1. 1. 0. 2. 3. 3. 3.]\n",
      " [2. 1. 2. 0. 1. 1. 1.]\n",
      " [3. 2. 3. 1. 0. 2. 1.]\n",
      " [3. 2. 3. 1. 2. 0. 1.]\n",
      " [3. 2. 3. 1. 1. 1. 0.]] [1, 5]\n",
      "[1. 1. 1. 1. 1. 5. 5.]\n",
      "[[0. 1. 1. 2. 3. 3. 3.]\n",
      " [1. 0. 1. 1. 2. 2. 2.]\n",
      " [1. 1. 0. 2. 3. 3. 3.]\n",
      " [2. 1. 2. 0. 1. 1. 1.]\n",
      " [3. 2. 3. 1. 0. 2. 1.]\n",
      " [3. 2. 3. 1. 2. 0. 1.]\n",
      " [3. 2. 3. 1. 1. 1. 0.]] [1. 1. 1. 1. 1. 5. 5.] 2\n",
      "ass {1.0: [0, 1, 2, 3, 4], 5.0: [5, 6]}\n",
      "dists {0: 7.0, 1: 5.0, 2: 7.0, 3: 6.0, 4: 9.0}\n",
      "dists {5: 1.0, 6: 1.0}\n",
      "ret get medioids [1. 5.] [1, 5]\n",
      "assign [[0. 1. 1. 2. 3. 3. 3.]\n",
      " [1. 0. 1. 1. 2. 2. 2.]\n",
      " [1. 1. 0. 2. 3. 3. 3.]\n",
      " [2. 1. 2. 0. 1. 1. 1.]\n",
      " [3. 2. 3. 1. 0. 2. 1.]\n",
      " [3. 2. 3. 1. 2. 0. 1.]\n",
      " [3. 2. 3. 1. 1. 1. 0.]] [1, 5]\n",
      "[1. 1. 1. 1. 1. 5. 5.]\n",
      "[[0. 1. 1. 2. 3. 3. 3.]\n",
      " [1. 0. 1. 1. 2. 2. 2.]\n",
      " [1. 1. 0. 2. 3. 3. 3.]\n",
      " [2. 1. 2. 0. 1. 1. 1.]\n",
      " [3. 2. 3. 1. 0. 2. 1.]\n",
      " [3. 2. 3. 1. 2. 0. 1.]\n",
      " [3. 2. 3. 1. 1. 1. 0.]] [1. 1. 1. 1. 1. 5. 5.] 2\n",
      "ass {1.0: [0, 1, 2, 3, 4], 5.0: [5, 6]}\n",
      "dists {0: 7.0, 1: 5.0, 2: 7.0, 3: 6.0, 4: 9.0}\n",
      "dists {5: 1.0, 6: 1.0}\n",
      "ret get medioids [1. 5.] [1, 5]\n"
     ]
    },
    {
     "ename": "AssertionError",
     "evalue": "",
     "output_type": "error",
     "traceback": [
      "\u001b[0;31m---------------------------------------------------------------------------\u001b[0m",
      "\u001b[0;31mAssertionError\u001b[0m                            Traceback (most recent call last)",
      "\u001b[0;32m<ipython-input-78-4ab9a8047ec3>\u001b[0m in \u001b[0;36m<module>\u001b[0;34m\u001b[0m\n\u001b[1;32m      5\u001b[0m \u001b[0;34m\u001b[0m\u001b[0m\n\u001b[1;32m      6\u001b[0m \u001b[0;31m## make this assertion pass\u001b[0m\u001b[0;34m\u001b[0m\u001b[0;34m\u001b[0m\u001b[0;34m\u001b[0m\u001b[0m\n\u001b[0;32m----> 7\u001b[0;31m \u001b[0;32massert\u001b[0m\u001b[0;34m(\u001b[0m\u001b[0mnp\u001b[0m\u001b[0;34m.\u001b[0m\u001b[0mall\u001b[0m\u001b[0;34m(\u001b[0m\u001b[0mkmeds_assign\u001b[0m \u001b[0;34m<\u001b[0m \u001b[0;36m2\u001b[0m\u001b[0;34m)\u001b[0m\u001b[0;34m)\u001b[0m\u001b[0;34m\u001b[0m\u001b[0;34m\u001b[0m\u001b[0m\n\u001b[0m",
      "\u001b[0;31mAssertionError\u001b[0m: "
     ]
    }
   ],
   "source": [
    "from networks_lib.kmedioids import kmedioids\n",
    "\n",
    "kmeds_assign = kmedioids(toy_dist, 2)\n",
    "kmeds_assign\n",
    "\n",
    "## make this assertion pass\n",
    "assert(np.all(kmeds_assign < 2))"
   ]
  },
  {
   "cell_type": "code",
   "execution_count": null,
   "metadata": {},
   "outputs": [],
   "source": []
  },
  {
   "cell_type": "code",
   "execution_count": null,
   "metadata": {},
   "outputs": [],
   "source": []
  }
 ],
 "metadata": {
  "kernelspec": {
   "display_name": "Python 3",
   "language": "python",
   "name": "python3"
  },
  "language_info": {
   "codemirror_mode": {
    "name": "ipython",
    "version": 3
   },
   "file_extension": ".py",
   "mimetype": "text/x-python",
   "name": "python",
   "nbconvert_exporter": "python",
   "pygments_lexer": "ipython3",
   "version": "3.7.4"
  }
 },
 "nbformat": 4,
 "nbformat_minor": 4
}
